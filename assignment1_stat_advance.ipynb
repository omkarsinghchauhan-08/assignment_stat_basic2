{
 "cells": [
  {
   "cell_type": "code",
   "execution_count": 1,
   "id": "84ae021d-3f5b-4102-be05-fcbc140428bd",
   "metadata": {},
   "outputs": [],
   "source": [
    "# Ques 1 what are 3 measure of central tendency ? \n",
    "# ans - 3 measure of central tendency are -\n",
    "#  1.> Mean -  it is the average of the dataset .\n",
    "\n",
    "#  2.>Median- The median is the middle value in distribution when the values are arranged in ascending or descending order.\n",
    "\n",
    "#  3.>Mode--  The mode is the most commonly occurring value in a distribution.\n",
    "\n"
   ]
  },
  {
   "cell_type": "code",
   "execution_count": 2,
   "id": "9416fe02-83ee-43d8-b821-7ee150163df6",
   "metadata": {},
   "outputs": [],
   "source": [
    "# Ques 2 \n",
    "# ans - 1.> Mean - The mean is the sum of the value of each observation in a dataset divided by the number of observations. This is also known as the arithmetic average. \n",
    "\n",
    "# Looking at the retirement age distribution again: \n",
    "\n",
    "# 54, 54, 54, 55, 56, 57, 57, 58, 58, 60, 60\n",
    "\n",
    "# The mean is calculated by adding together all the values (54+54+54+55+56+57+57+58+58+60+60 = 623) and dividing by the number of observations (11) which equals 56.6 years.\n",
    "\n",
    "#      2.> Median -- The median is the middle value in distribution when the values are arranged in ascending or descending order.\n",
    "\n",
    "#         The median divides the distribution in half (there are 50% of observations on either side of the median value). In a distribution with an odd number of observations, the median value is the middle value.  \n",
    "\n",
    "#         Looking at the retirement age distribution (which has 11 observations), the median is the middle value, which is 57 years:  \n",
    "\n",
    "#         54, 54, 54, 55, 56, 57, 57, 58, 58, 60, 60 \n",
    "\n",
    "#         When the distribution has an even number of observations, the median value is the mean of the two middle values.  In the following distribution, the two middle values are 56 and 57, therefore the median equals 56.5 years: \n",
    "\n",
    "#          52, 54, 54, 54, 55, 56, 57, 57, 58, 58, 60, 60\n",
    "\n",
    "#     3.> Mode-- The mode is the most commonly occurring value in a distribution.\n",
    "\n",
    "#         Consider this dataset showing the retirement age of 11 people, in whole years:\n",
    "\n",
    "#          54, 54, 54, 55, 56, 57, 57, 58, 58, 60, 60    \n",
    "#          The most commonly occurring value is 54, therefore the mode of this distribution is 54 years.  "
   ]
  },
  {
   "cell_type": "code",
   "execution_count": 14,
   "id": "b4ec9699-7381-43b4-8075-7560fdd679c5",
   "metadata": {},
   "outputs": [
    {
     "data": {
      "text/plain": [
       "177.01875"
      ]
     },
     "execution_count": 14,
     "metadata": {},
     "output_type": "execute_result"
    }
   ],
   "source": [
    "# Ques 3 measure central tendency on height dataset\n",
    "# ans- \n",
    "height=[178,177,176,177,178.2,178,175,179,180,175,178.9,176.2,177,172.5,178,176.5]\n",
    "import numpy as np \n",
    "np.mean(height)  # mean of height dataset\n",
    "\n",
    "\n"
   ]
  },
  {
   "cell_type": "code",
   "execution_count": 11,
   "id": "c1e6e667-f8e8-4467-9fae-c336ff7ac153",
   "metadata": {},
   "outputs": [
    {
     "data": {
      "text/plain": [
       "177.0"
      ]
     },
     "execution_count": 11,
     "metadata": {},
     "output_type": "execute_result"
    }
   ],
   "source": [
    "#median \n",
    "np.median(height)"
   ]
  },
  {
   "cell_type": "code",
   "execution_count": 12,
   "id": "ba4208ce-a4c1-478f-b95c-a1adc18ac5f8",
   "metadata": {},
   "outputs": [
    {
     "name": "stderr",
     "output_type": "stream",
     "text": [
      "/tmp/ipykernel_92/3846226869.py:2: FutureWarning: Unlike other reduction functions (e.g. `skew`, `kurtosis`), the default behavior of `mode` typically preserves the axis it acts along. In SciPy 1.11.0, this behavior will change: the default value of `keepdims` will become False, the `axis` over which the statistic is taken will be eliminated, and the value None will no longer be accepted. Set `keepdims` to True or False to avoid this warning.\n",
      "  stats.mode(height)\n"
     ]
    },
    {
     "data": {
      "text/plain": [
       "ModeResult(mode=array([177.]), count=array([3]))"
      ]
     },
     "execution_count": 12,
     "metadata": {},
     "output_type": "execute_result"
    }
   ],
   "source": [
    "from scipy import stats\n",
    "stats.mode(height)"
   ]
  },
  {
   "cell_type": "code",
   "execution_count": 16,
   "id": "0bc08079-8e26-4238-aabb-7c503f2745dc",
   "metadata": {},
   "outputs": [
    {
     "data": {
      "text/plain": [
       "1.7885814036548633"
      ]
     },
     "execution_count": 16,
     "metadata": {},
     "output_type": "execute_result"
    }
   ],
   "source": [
    "#Ques 4 standard deviation of data\n",
    "#ans-\n",
    "data=[178,177,176,177,178.2,178,175,179,180,175,178.9,176.2,177,172.5,178,176.5]\n",
    "np.std(data)"
   ]
  },
  {
   "cell_type": "code",
   "execution_count": 17,
   "id": "c8d3f253-53b5-4f18-8ae2-c75ea5f32a0c",
   "metadata": {},
   "outputs": [],
   "source": [
    "# Ques 5\n",
    "#ans- Dispersion of data used to understands the distribution of data. It helps to understand the variation of data and provides a piece of information about the distribution data. Range, IOR, Variance, and Standard Deviation are the methods used to understand the distribution data.\n",
    "\n",
    "#   Dispersion of data helps to identify outliers in a given dataset. \n",
    "\n",
    "#   The range of the data is given as the difference between the maximum and the minimum values of the observations in the data. For example, let’s say we have data on the number of customers walking in the store in a week. \n",
    "#   The variance of the data is given by measuring the distance of the observed values from the mean of the distribution. Here we are not concerned with the sign of the distance of the point, we are more interested in the magnitude. So, we take squares of the distance from the mean. Let’s say we have x1, x2, x3 …. xn as n observations and \\bar{x} be the mean. \n",
    "\n",
    "#   In the calculation of variance, notice that the units of the variance and the unit of the observations are not the same. So, to remove this problem, we define standard deviation. It is denoted as sigma\n",
    "\n",
    "\n",
    "# Find out the range of the following data: \n",
    "\n",
    "# -4 \t5\t-10\t6\t9\n",
    "# Solution: \n",
    "\n",
    "#  For calculating the range of a data, we need to find out the maximum and the minimum of the data: \n",
    "\n",
    "#   Max = 9 \n",
    "\n",
    "#   Min = -10\n",
    "\n",
    "#   Range = Max – Min \n",
    "\n",
    "#            = 9 -(-10) \n",
    "\n",
    "#            = 19 "
   ]
  },
  {
   "cell_type": "code",
   "execution_count": 18,
   "id": "92451ba9-9c68-466f-b148-33a894257bff",
   "metadata": {},
   "outputs": [],
   "source": [
    "# Ques 6 - what is a venn diagram ?\n",
    "# ans - A Venn diagram is an illustration that uses circles to show the relationships among things or finite groups of things. Circles that overlap have a commonality while circles that do not overlap do not share those traits.\n",
    "\n",
    "#      Venn diagrams help to visually represent the similarities and differences between two concepts. They have long been recognized for their usefulness as educational tools. Since the mid-20th century, Venn diagrams have been used as part of the introductory logic curriculum and in elementary-level educational plans around the world.\n",
    "\n",
    "#     While there are many ways to organize a Venn diagram, they most often consist of overlapping circles. Each circle by itself represents a set, which may include ideas, concepts, numbers, or objects.\n"
   ]
  },
  {
   "cell_type": "code",
   "execution_count": 20,
   "id": "769dab94-4d7a-4972-8836-1e29d2e7ee8b",
   "metadata": {},
   "outputs": [
    {
     "data": {
      "text/plain": [
       "{'2', '6'}"
      ]
     },
     "execution_count": 20,
     "metadata": {},
     "output_type": "execute_result"
    }
   ],
   "source": [
    "# Ques 7 - \n",
    "# ans - \n",
    "a= {'2','3','4','5','6','7'}\n",
    "b={'0','2','6','8','10'}\n",
    "a.intersection(b)"
   ]
  },
  {
   "cell_type": "code",
   "execution_count": 21,
   "id": "bddf8d38-f892-42f5-98db-965c8b8cabef",
   "metadata": {},
   "outputs": [
    {
     "data": {
      "text/plain": [
       "{'0', '10', '2', '3', '4', '5', '6', '7', '8'}"
      ]
     },
     "execution_count": 21,
     "metadata": {},
     "output_type": "execute_result"
    }
   ],
   "source": [
    "a.union(b)"
   ]
  },
  {
   "cell_type": "code",
   "execution_count": 22,
   "id": "95668c64-2e52-4edd-9610-174ea9fa91e8",
   "metadata": {},
   "outputs": [],
   "source": [
    "# Ques 8 - What do you understand about skewness in data ?\n",
    "# ans - Skewness is a measure of asymmetry or distortion of symmetric distribution. It measures the deviation of the given distribution of a random variable from a symmetric distribution, such as normal distribution. A normal distribution is without any skewness, as it is symmetrical on both sides. Hence, a curve is regarded as skewed if it is shifted towards the right or the left.\n",
    "\n",
    "#   1. Positive Skewness\n",
    "#      If the given distribution is shifted to the left and with its tail on the right side, it is a positively skewed distribution. It is also called the right-skewed distribution. A tail is referred to as the tapering of the curve differently from the data points on the other side.\n",
    "\n",
    "#      As the name suggests, a positively skewed distribution assumes a skewness value of more than zero. Since the skewness of the given distribution is on the right, the mean value is greater than the median and moves towards the right, and the mode occurs at the highest frequency of the distribution.\n",
    "\n",
    "#   2. Negative Skewness\n",
    "#      If the given distribution is shifted to the right and with its tail on the left side, it is a negatively skewed distribution. It is also called a left-skewed distribution. The skewness value of any distribution showing a negative skew is always less than zero. The skewness of the given distribution is on the left; hence, the mean value is less than the median and moves towards the left, and the mode occurs at the highest frequency of the distribution."
   ]
  },
  {
   "cell_type": "code",
   "execution_count": 1,
   "id": "229ba5f7-71e9-48c6-971c-5f060fad859e",
   "metadata": {},
   "outputs": [],
   "source": [
    "# Ques 9 - \n",
    "# ans -- if the data is right skewed then median is at left with respect to mean and in this case mean > Median > Mode"
   ]
  },
  {
   "cell_type": "code",
   "execution_count": 2,
   "id": "681c83d7-60e6-4471-9b4f-a1554625d45e",
   "metadata": {},
   "outputs": [],
   "source": [
    "# ques 10 -\n",
    "#  Covariance is a statistical term that refers to a systematic relationship between two random variables in which a change in the other reflects a change in one variable.\n",
    "\n",
    "# The covariance value can range from -∞ to +∞, with a negative value indicating a negative relationship and a positive value indicating a positive relationship.\n",
    "\n",
    "# The greater this number, the more reliant the relationship. Positive covariance denotes a direct relationship and is represented by a positive number.\n",
    "\n",
    "#  A negative number, on the other hand, denotes negative covariance, which indicates an inverse relationship between the two variables. Covariance is great for defining the type of relationship, but it's terrible for interpreting the magnitude.\n",
    "\n",
    "#  Let Σ(X) and Σ(Y) be the expected values of the variables.\n",
    "\n",
    "#  correlation is a measure that determines the degree to which two or more random variables move in sequence. When an equivalent movement of another variable reciprocates the movement of one variable in some way or another during the study of two variables, the variables are said to be correlated. \n",
    "\n",
    "#  Positive correlation occurs when two variables move in the same direction. When variables move in the opposite direction, they are said to be negatively correlated.\n",
    "\n"
   ]
  },
  {
   "cell_type": "code",
   "execution_count": 3,
   "id": "6ee38caa-9c4c-4de8-a48d-8e2db2179517",
   "metadata": {},
   "outputs": [],
   "source": [
    "# ques 11 \n",
    "# ans -  The sample mean formula is written as\n",
    "  \n",
    "# sample mean(x bar) = submission i=1 to n x of i divided by n \n",
    "\n",
    "# let us take an example : Find the sample mean of 60, 57, 109, 50.\n",
    "# To find: Sample mean\n",
    "# Sum of terms = 60 + 57 + 109 + 50 = 276\n",
    "# Number of terms = 4\n",
    "# Using sample mean formula,\n",
    "# mean = (sum of terms)/(number of terms)\n",
    "# mean = 276/4 = 69\n",
    "\n",
    "# The sample mean of 60, 57, 109, 50 is  69."
   ]
  },
  {
   "cell_type": "code",
   "execution_count": 4,
   "id": "56cd1fd9-610e-47a8-82f4-7c8ed494935d",
   "metadata": {},
   "outputs": [],
   "source": [
    "# Ques 12 \n",
    "# ans --For normally distributed data, all three measures of central tendency will give you the same answer so they can all be used. In skewed distributions, the median is the best measure because it is unaffected by extreme outliers or non-symmetric distributions of scores. The mean and mode can vary in skewed distributions."
   ]
  },
  {
   "cell_type": "code",
   "execution_count": 5,
   "id": "7b0dd44d-5fe8-4b4a-b153-69420986ed34",
   "metadata": {},
   "outputs": [],
   "source": [
    "# Ques 13 -How is covariance different from correlation?\n",
    "# ans - Both covariance and correlation measure the relationship and the dependency between two variables. Covariance indicates the direction of the linear relationship between variables. Correlation measures both the strength and direction of the linear relationship between two variables.\n"
   ]
  },
  {
   "cell_type": "code",
   "execution_count": 6,
   "id": "ce4493d0-b7c7-48b9-85bd-e8e7c7b8ca8b",
   "metadata": {},
   "outputs": [
    {
     "data": {
      "text/plain": [
       "41.416666666666664"
      ]
     },
     "execution_count": 6,
     "metadata": {},
     "output_type": "execute_result"
    }
   ],
   "source": [
    "# Ques 15 \n",
    "# ans - Outliers are numbers in a data set that are vastly larger or smaller than the other values in the set. Mean, median and mode are measures of central tendency. Mean is the only measure of central tendency that is always affected by an outlier. Mean, the average, is the most popular measure of central tendency.\n",
    "age=[12,21,23,45,65,43,56,45,32,67,54,34]\n",
    "import numpy as np \n",
    "np .mean(age)"
   ]
  },
  {
   "cell_type": "code",
   "execution_count": 8,
   "id": "7d88367d-c135-4f2a-aead-20ab72b9fe48",
   "metadata": {},
   "outputs": [
    {
     "data": {
      "text/plain": [
       "44.0"
      ]
     },
     "execution_count": 8,
     "metadata": {},
     "output_type": "execute_result"
    }
   ],
   "source": [
    "np.median(age)"
   ]
  },
  {
   "cell_type": "code",
   "execution_count": 9,
   "id": "e7aa8f4a-3372-41a1-a791-13c9a2fd26a5",
   "metadata": {},
   "outputs": [
    {
     "name": "stderr",
     "output_type": "stream",
     "text": [
      "/tmp/ipykernel_77/2780060868.py:2: FutureWarning: Unlike other reduction functions (e.g. `skew`, `kurtosis`), the default behavior of `mode` typically preserves the axis it acts along. In SciPy 1.11.0, this behavior will change: the default value of `keepdims` will become False, the `axis` over which the statistic is taken will be eliminated, and the value None will no longer be accepted. Set `keepdims` to True or False to avoid this warning.\n",
      "  stats.mode(age)\n"
     ]
    },
    {
     "data": {
      "text/plain": [
       "ModeResult(mode=array([45]), count=array([2]))"
      ]
     },
     "execution_count": 9,
     "metadata": {},
     "output_type": "execute_result"
    }
   ],
   "source": [
    "from scipy import stats \n",
    "stats.mode(age)"
   ]
  },
  {
   "cell_type": "code",
   "execution_count": 13,
   "id": "af8cdd71-6c73-440d-85c1-177a4beeb24c",
   "metadata": {},
   "outputs": [
    {
     "data": {
      "text/plain": [
       "53.61538461538461"
      ]
     },
     "execution_count": 13,
     "metadata": {},
     "output_type": "execute_result"
    }
   ],
   "source": [
    "# if we add 200 as outliers\n",
    "age=[12,21,23,45,65,43,56,45,32,67,54,34,200]\n",
    "np.mean(age)"
   ]
  },
  {
   "cell_type": "code",
   "execution_count": 14,
   "id": "0ef9c144-6f02-4e89-9bcd-6fe4b07e95c7",
   "metadata": {},
   "outputs": [
    {
     "data": {
      "text/plain": [
       "45.0"
      ]
     },
     "execution_count": 14,
     "metadata": {},
     "output_type": "execute_result"
    }
   ],
   "source": [
    "np.median(age)"
   ]
  },
  {
   "cell_type": "code",
   "execution_count": 15,
   "id": "5f53a5e1-71a2-4e2e-946f-ddb23f13177d",
   "metadata": {},
   "outputs": [
    {
     "name": "stderr",
     "output_type": "stream",
     "text": [
      "/tmp/ipykernel_77/2474845003.py:1: FutureWarning: Unlike other reduction functions (e.g. `skew`, `kurtosis`), the default behavior of `mode` typically preserves the axis it acts along. In SciPy 1.11.0, this behavior will change: the default value of `keepdims` will become False, the `axis` over which the statistic is taken will be eliminated, and the value None will no longer be accepted. Set `keepdims` to True or False to avoid this warning.\n",
      "  stats.mode(age)\n"
     ]
    },
    {
     "data": {
      "text/plain": [
       "ModeResult(mode=array([45]), count=array([2]))"
      ]
     },
     "execution_count": 15,
     "metadata": {},
     "output_type": "execute_result"
    }
   ],
   "source": [
    "stats.mode(age)"
   ]
  },
  {
   "cell_type": "code",
   "execution_count": null,
   "id": "70bbefab-97a5-44fb-94ac-5e831e423802",
   "metadata": {},
   "outputs": [],
   "source": [
    "# in case of  median and mode less affect would show but in case of mean it affects more "
   ]
  }
 ],
 "metadata": {
  "kernelspec": {
   "display_name": "Python 3 (ipykernel)",
   "language": "python",
   "name": "python3"
  },
  "language_info": {
   "codemirror_mode": {
    "name": "ipython",
    "version": 3
   },
   "file_extension": ".py",
   "mimetype": "text/x-python",
   "name": "python",
   "nbconvert_exporter": "python",
   "pygments_lexer": "ipython3",
   "version": "3.10.8"
  }
 },
 "nbformat": 4,
 "nbformat_minor": 5
}
